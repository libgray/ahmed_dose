{
 "cells": [
  {
   "cell_type": "markdown",
   "metadata": {},
   "source": [
    "### Required\n",
    "- Create conda environment\n",
    "- pip install -r requirements.txt"
   ]
  },
  {
   "cell_type": "code",
   "execution_count": 72,
   "metadata": {},
   "outputs": [],
   "source": [
    "import pandas as pd\n",
    "import os\n",
    "os.environ[\"HF_HOME\"] = \"/data2/model_weights/huggingface\"\n",
    "from transformers import pipeline\n",
    "import torch\n",
    "import re\n",
    "import json"
   ]
  },
  {
   "cell_type": "code",
   "execution_count": null,
   "metadata": {},
   "outputs": [],
   "source": [
    "# placeholder\n",
    "df = pd.read_csv(YOUR_DATA_HERE)"
   ]
  },
  {
   "cell_type": "code",
   "execution_count": 2,
   "metadata": {},
   "outputs": [
    {
     "name": "stderr",
     "output_type": "stream",
     "text": [
      "Loading checkpoint shards: 100%|██████████| 4/4 [00:04<00:00,  1.06s/it]\n",
      "Special tokens have been added in the vocabulary, make sure the associated word embeddings are fine-tuned or trained.\n"
     ]
    }
   ],
   "source": [
    "model = \"Qwen/Qwen2.5-7B-Instruct\"\n",
    "\n",
    "pipe = pipeline(\n",
    "    \"text-generation\",\n",
    "    model=model,\n",
    "    model_kwargs={\"torch_dtype\": torch.bfloat16},\n",
    "    device=\"cuda:1\",\n",
    ")"
   ]
  },
  {
   "cell_type": "code",
   "execution_count": 64,
   "metadata": {},
   "outputs": [],
   "source": [
    "# Plenty of directions to take this.\n",
    "\n",
    "prompt = \"\"\"\n",
    "You are a helpful pharmaceutical assistant. Extract the total daily dosage from the following dosage instructions. Format the dosage as a json with strength and frequency fields. Explain how you calculated the daily_sumamry.\n",
    "\n",
    "Hints:\n",
    "- When the number of tablets is given rather than the mass, convert the strength to mass.\n",
    "\n",
    "Example: \n",
    "1. 'Metformin 20mg tablets. take 0.25 tablet by mouth 2 (two) times daily' = {\"events\": [{\"frequency\": \"twice daily\",\"amount\": {\"value\": 0.25,\"unit\": \"tablet\"},\"strength\": {\"value\": 5, \"unit\": \"mg\"}}],\"daily_summary\": {\"total_amount\": {\"value\": 0.5,\"unit\": \"tablet\"},\"total_strength\": {\"value\": 10, \"unit\": \"mg\"}}}\n",
    "2. 'Tylenol 50mg tablets. take 1 tablet daily and 2 tablets nightly by mouth.' {\"events\": [{\"frequency\": \"daily\",\"amount\": {\"value\": 1,\"unit\": \"tablet\"},\"strength\": {\"value\": 50,\"unit\": \"mg\"}},{\"frequency\": \"nightly\",\"amount\": {\"value\": 2,\"unit\": \"tablet\"},\"strength\": {\"value\": 50,\"unit\": \"mg\"}}],\"daily_summary\": {\"total_amount\": {\"value\": 3,\"unit\": \"tablets\"},\"total_strength\": {\"value\": 150,\"unit\": \"mg\"}}}\n",
    "\n",
    "Dosage Instruction:\n",
    "\"\"\"\n",
    "\n",
    "# messages = [\n",
    "#     {\"role\": \"system\", \"content\": prompt},\n",
    "#     {\n",
    "#         \"role\": \"user\",\n",
    "#         \"content\": \"Albuterol 50mg. take 0.5 tablet by mouth 2 (two) times daily\",\n",
    "#     },\n",
    "# ]"
   ]
  },
  {
   "cell_type": "code",
   "execution_count": 90,
   "metadata": {},
   "outputs": [
    {
     "name": "stderr",
     "output_type": "stream",
     "text": [
      "/home/nea914/miniconda3/envs/unsloth/lib/python3.10/site-packages/transformers/generation/configuration_utils.py:537: UserWarning: `do_sample` is set to `False`. However, `top_k` is set to `20` -- this flag is only used in sample-based generation modes. You should set `do_sample=True` or unset `top_k`.\n",
      "  warnings.warn(\n"
     ]
    },
    {
     "name": "stdout",
     "output_type": "stream",
     "text": [
      "\n",
      "You are a helpful pharmaceutical assistant. Extract the total daily dosage from the following dosage instructions. Format the dosage as a json with strength and frequency fields. Explain how you calculated the daily_sumamry.\n",
      "\n",
      "Hints:\n",
      "- When the number of tablets is given rather than the mass, convert the strength to mass.\n",
      "\n",
      "Example: \n",
      "1. 'Metformin 20mg tablets. take 0.25 tablet by mouth 2 (two) times daily' = {\"events\": [{\"frequency\": \"twice daily\",\"amount\": {\"value\": 0.25,\"unit\": \"tablet\"},\"strength\": {\"value\": 5, \"unit\": \"mg\"}}],\"daily_summary\": {\"total_amount\": {\"value\": 0.5,\"unit\": \"tablet\"},\"total_strength\": {\"value\": 10, \"unit\": \"mg\"}}}\n",
      "2. 'Tylenol 50mg tablets. take 1 tablet daily and 2 tablets nightly by mouth.' {\"events\": [{\"frequency\": \"daily\",\"amount\": {\"value\": 1,\"unit\": \"tablet\"},\"strength\": {\"value\": 50,\"unit\": \"mg\"}},{\"frequency\": \"nightly\",\"amount\": {\"value\": 2,\"unit\": \"tablet\"},\"strength\": {\"value\": 50,\"unit\": \"mg\"}}],\"daily_summary\": {\"total_amount\": {\"value\": 3,\"unit\": \"tablets\"},\"total_strength\": {\"value\": 150,\"unit\": \"mg\"}}}\n",
      "\n",
      "Dosage Instruction:\n",
      "Albuterol 50mg. take 0.5 tablet by mouth 2 (two) times daily.\n",
      "To extract the total daily dosage from the given instruction, let's break through it step-by-step:\n",
      "\n",
      "1. **Identify the Strength and Amount:**\n",
      "   - The strength is Albuterol 50mg per tablet.\n",
      "   - The amount to be taken is 0.5 tablet each time.\n",
      "\n",
      "2. **Determine the Frequency:**\n",
      "   - The frequency is 2 (two) times daily.\n",
      "\n",
      "3. **Calculate the Total Daily Dosage:**\n",
      "   - For each dose: 0.5 tablet * 50mg/tablet = 25mg\n",
      "   - Since this is taken twice daily: 25mg * 2 = 50mg\n",
      "\n",
      "4. **Format the Result in JSON:**\n",
      "\n",
      "```json\n",
      "{\n",
      "  \"events\": [\n",
      "    {\n",
      "      \"frequency\": \"twice daily\",\n",
      "      \"amount\": {\n",
      "        \"value\": 0.5,\n",
      "        \"unit\": \"tablet\"\n",
      "      },\n",
      "      \"strength\": {\n",
      "        \"value\": 50,\n",
      "        \"unit\": \"mg\"\n",
      "      }\n",
      "    }\n",
      "  ],\n",
      "  \"daily_summary\": {\n",
      "    \"total_amount\": {\n",
      "      \"value\": 1,\n",
      "      \"unit\": \"tablet\"\n",
      "    },\n",
      "    \"total_strength\": {\n",
      "      \"value\": 50,\n",
      "      \"unit\": \"mg\"\n",
      "    }\n",
      "  }\n",
      "}\n",
      "```\n",
      "\n",
      "### Explanation:\n",
      "- **Total Amount:** The patient takes 0.5 tablets each time, and since they\n"
     ]
    }
   ],
   "source": [
    "# for dosage_instruction in df.dosage_text:\n",
    "responses = []\n",
    "for dosage_instruction in [\"Albuterol 50mg. take 0.5 tablet by mouth 2 (two) times daily\"]:\n",
    "    prompted = pipe(\n",
    "        prompt + dosage_instruction,\n",
    "        do_sample=False,\n",
    "        temperature=1.0,\n",
    "        top_p=1,\n",
    "        max_new_tokens=300\n",
    "    )\n",
    "    print(prompted[0][\"generated_text\"])\n",
    "    str_resp = re.search(\"```json(.*)(?=```)\", prompted[0][\"generated_text\"], re.DOTALL).group(1)\n",
    "    responses.append(json.loads(str_resp))"
   ]
  },
  {
   "cell_type": "code",
   "execution_count": 91,
   "metadata": {},
   "outputs": [
    {
     "data": {
      "text/plain": [
       "[{'events': [{'frequency': 'twice daily',\n",
       "    'amount': {'value': 0.5, 'unit': 'tablet'},\n",
       "    'strength': {'value': 50, 'unit': 'mg'}}],\n",
       "  'daily_summary': {'total_amount': {'value': 1, 'unit': 'tablet'},\n",
       "   'total_strength': {'value': 50, 'unit': 'mg'}}}]"
      ]
     },
     "execution_count": 91,
     "metadata": {},
     "output_type": "execute_result"
    }
   ],
   "source": [
    "responses"
   ]
  },
  {
   "cell_type": "code",
   "execution_count": null,
   "metadata": {},
   "outputs": [],
   "source": []
  }
 ],
 "metadata": {
  "kernelspec": {
   "display_name": "c2q",
   "language": "python",
   "name": "python3"
  },
  "language_info": {
   "codemirror_mode": {
    "name": "ipython",
    "version": 3
   },
   "file_extension": ".py",
   "mimetype": "text/x-python",
   "name": "python",
   "nbconvert_exporter": "python",
   "pygments_lexer": "ipython3",
   "version": "3.10.14"
  }
 },
 "nbformat": 4,
 "nbformat_minor": 2
}
